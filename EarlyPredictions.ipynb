{
  "nbformat": 4,
  "nbformat_minor": 5,
  "metadata": {
    "kernelspec": {
      "display_name": "Python 3",
      "language": "python",
      "name": "python3"
    },
    "language_info": {
      "codemirror_mode": {
        "name": "ipython",
        "version": 3
      },
      "file_extension": ".py",
      "mimetype": "text/x-python",
      "name": "python",
      "nbconvert_exporter": "python",
      "pygments_lexer": "ipython3",
      "version": "3.8.8"
    },
    "colab": {
      "name": "EarlyPredictions.ipynb",
      "provenance": [],
      "collapsed_sections": [],
      "include_colab_link": true
    }
  },
  "cells": [
    {
      "cell_type": "markdown",
      "metadata": {
        "id": "view-in-github",
        "colab_type": "text"
      },
      "source": [
        "<a href=\"https://colab.research.google.com/github/jamesdesu/MTGPredictByImage/blob/EK/EarlyPredictions.ipynb\" target=\"_parent\"><img src=\"https://colab.research.google.com/assets/colab-badge.svg\" alt=\"Open In Colab\"/></a>"
      ]
    },
    {
      "cell_type": "markdown",
      "metadata": {
        "id": "LCWNTW2zW2GC"
      },
      "source": [
        "# Predicting Magic: the Gathering Card Types Based on Artwork\n",
        "Authors: David Kim, Ericka Koyama, James DeSelms, Jess Sparrow\n",
        "# Intro\n",
        "Magic: the Gathering (or sometimes just Magic) is a trading card game. As such, the game is played using small objects resembling playing cards. These cards have certain attributes, such as cost, color, rarity, and type. These types represent different things within the context of the game. For example, a creature card might represent a monster, such as the dragon depicted in Balefire Dragon, while the Instant card Lightning Bolt represents a magical bolt of lightning. These attributes are brought to life by art, drawn by many different artists on commission. Since these attributes are so distinct in their flavor, might it be possible to train a model to predict which type a card is based on its art?\n",
        "# Description\n",
        "Scryfall is an online resource that allows people to quickly and efficiently search for Magic cards. It also provides a useful API. Scrython is a Python wrapper for this API. Magic cards are released in sets, usually of about 200-300 cards. These sets usually are themed in one way or another. For example, the set Battle for Zendikar is set on the in-game world of Zendikar, and the art of the cards reflects this. Kaladesh and Aether Revolt are two such sets, released back to back. They are set on the steampunk, India-inspired world of Kaladesh. This dataset uses a subset of cards from these two sets, using Scrython to gather them. In more exact terms, it uses Scrython to query Scryfall for all cards from the sets Kaladesh and Aether Revolt, except for those with the supertypes Legendary or those with the type Artifact Creature or the subtype Vehicle. This limits the dataset into the six categories of Artifact, Enchantment, Instant, Sorcery, Creature, and Land. This dataset is further pared down by selecting only twenty cards of each type, and combining the types Instant and Sorcery into one. The two types are combined since, in terms of flavor, there is minimal difference between the two. This careful selection and modification is done to make cards and categories less dissonant in their art style. The four dimensional image data of the art of the cards are used as predictors for the five aforementioned categories of Artifact, Enchantment, Instant and Sorcery, Creature, and Land."
      ],
      "id": "LCWNTW2zW2GC"
    },
    {
      "cell_type": "markdown",
      "metadata": {
        "id": "s_c5DyWLWtSB"
      },
      "source": [
        "Import everything necessary."
      ],
      "id": "s_c5DyWLWtSB"
    },
    {
      "cell_type": "code",
      "metadata": {
        "id": "387212a5-ac50-49c1-b7f8-438c43d18d52",
        "colab": {
          "base_uri": "https://localhost:8080/"
        },
        "outputId": "1649f169-ba74-4c37-a001-864569778efd"
      },
      "source": [
        "!pip install scrython\n",
        "#Import numpy.\n",
        "import numpy as np\n",
        "#Import pandas.\n",
        "import pandas as pd\n",
        "#Import scrython. Be sure to install it with pip or what have you.\n",
        "import scrython\n",
        "#Import seaborn.\n",
        "import seaborn as sns\n",
        "#Import nest_asyncio.\n",
        "import nest_asyncio\n",
        "#Import train_test_split from model sklearn.\n",
        "from sklearn.model_selection import train_test_split\n",
        "#Import io from skimage.\n",
        "from skimage import io\n",
        "#Import GaussianNB from sklearn.\n",
        "from sklearn.naive_bayes import GaussianNB\n",
        "#Import Isomap from sklearn.\n",
        "from sklearn.manifold import Isomap\n",
        "#Import accuracy score from sklearn.\n",
        "from sklearn.metrics import accuracy_score"
      ],
      "id": "387212a5-ac50-49c1-b7f8-438c43d18d52",
      "execution_count": 14,
      "outputs": [
        {
          "output_type": "stream",
          "text": [
            "Requirement already satisfied: scrython in /usr/local/lib/python3.7/dist-packages (1.9.0)\n",
            "Requirement already satisfied: aiohttp in /usr/local/lib/python3.7/dist-packages (from scrython) (3.7.4.post0)\n",
            "Requirement already satisfied: asyncio in /usr/local/lib/python3.7/dist-packages (from scrython) (3.4.3)\n",
            "Requirement already satisfied: typing-extensions>=3.6.5 in /usr/local/lib/python3.7/dist-packages (from aiohttp->scrython) (3.7.4.3)\n",
            "Requirement already satisfied: attrs>=17.3.0 in /usr/local/lib/python3.7/dist-packages (from aiohttp->scrython) (21.2.0)\n",
            "Requirement already satisfied: chardet<5.0,>=2.0 in /usr/local/lib/python3.7/dist-packages (from aiohttp->scrython) (3.0.4)\n",
            "Requirement already satisfied: async-timeout<4.0,>=3.0 in /usr/local/lib/python3.7/dist-packages (from aiohttp->scrython) (3.0.1)\n",
            "Requirement already satisfied: yarl<2.0,>=1.0 in /usr/local/lib/python3.7/dist-packages (from aiohttp->scrython) (1.6.3)\n",
            "Requirement already satisfied: multidict<7.0,>=4.5 in /usr/local/lib/python3.7/dist-packages (from aiohttp->scrython) (5.1.0)\n",
            "Requirement already satisfied: idna>=2.0 in /usr/local/lib/python3.7/dist-packages (from yarl<2.0,>=1.0->aiohttp->scrython) (2.10)\n"
          ],
          "name": "stdout"
        }
      ]
    },
    {
      "cell_type": "markdown",
      "metadata": {
        "id": "24bf269f-6c50-4851-b554-5447e0100139"
      },
      "source": [
        "Create some variables to make code more clear."
      ],
      "id": "24bf269f-6c50-4851-b554-5447e0100139"
    },
    {
      "cell_type": "code",
      "metadata": {
        "id": "ba3ae833-c90c-4837-a985-33a534ee2940"
      },
      "source": [
        "#The number of cards per type to use.\n",
        "no_cards_per_type = 20;\n",
        "#The number of card types.\n",
        "no_types = 5;"
      ],
      "id": "ba3ae833-c90c-4837-a985-33a534ee2940",
      "execution_count": 5,
      "outputs": []
    },
    {
      "cell_type": "markdown",
      "metadata": {
        "id": "e0083071-bdfd-4115-94f5-65aaed685758"
      },
      "source": [
        "Since the program uses an external API, it needs to be able to wait for a response before continuing."
      ],
      "id": "e0083071-bdfd-4115-94f5-65aaed685758"
    },
    {
      "cell_type": "code",
      "metadata": {
        "id": "a5930f1b-ec45-4b8e-aacf-b487a5885ce8"
      },
      "source": [
        "#Apply nest_asyncio.\n",
        "nest_asyncio.apply()"
      ],
      "id": "a5930f1b-ec45-4b8e-aacf-b487a5885ce8",
      "execution_count": 6,
      "outputs": []
    },
    {
      "cell_type": "markdown",
      "metadata": {
        "id": "af2c0847-5762-46d6-8962-8aa871e47a19"
      },
      "source": [
        "Query the API for some cards."
      ],
      "id": "af2c0847-5762-46d6-8962-8aa871e47a19"
    },
    {
      "cell_type": "code",
      "metadata": {
        "id": "26088b9e-9243-485a-aa8e-df7d4b85f9ce"
      },
      "source": [
        "#Query for some cards.\n",
        "cards = scrython.cards.Search(q='((set:kld and -set:aer) or (-set:kld and set:aer)) and ((-type:\"artifact creature\" -type:\"legendary\" -type:vehicle -type:basic) or (!Plains or !Island or !Swamp or !Mountain or !Forest)) set:kld unique:prints')\n",
        "#Query for some more cards. We perform a second query in order to reduce confusion.\n",
        "more_cards = scrython.cards.Search(q='(-set:kld and set:aer) -type:\"artifact creature\" -type:legendary -type:vehicle')"
      ],
      "id": "26088b9e-9243-485a-aa8e-df7d4b85f9ce",
      "execution_count": 7,
      "outputs": []
    },
    {
      "cell_type": "markdown",
      "metadata": {
        "id": "c384a3f6-8b1c-471d-9d0a-2f514f6b0887"
      },
      "source": [
        "Load those cards into a dataframe and clear up the dataframe."
      ],
      "id": "c384a3f6-8b1c-471d-9d0a-2f514f6b0887"
    },
    {
      "cell_type": "code",
      "metadata": {
        "id": "388785ef-cc68-4c1c-9014-d02b47e9f328",
        "colab": {
          "base_uri": "https://localhost:8080/"
        },
        "outputId": "36f88244-f5f6-4933-c026-4e8faaf2b079"
      },
      "source": [
        "#Load both of those cards into a dataframe.\n",
        "df = pd.DataFrame(cards.data()).append(more_cards.data())\n",
        "#Split the image_uris into three columns.\n",
        "df = pd.concat([df.drop(['image_uris'], axis=1), df['image_uris'].apply(pd.Series)], axis=1)\n",
        "#Drop uneeded columns.\n",
        "df = df.replace(regex=r'^Creature(.*)', value='Creature')\n",
        "df = df.drop(['id', 'object', 'oracle_id', 'multiverse_ids', 'mtgo_id', 'mtgo_foil_id', 'tcgplayer_id', 'cardmarket_id', 'lang', \n",
        "    'released_at', 'uri', 'scryfall_uri', 'layout', 'highres_image', 'image_status', 'keywords', 'legalities', 'games',\n",
        "    'reserved', 'foil', 'nonfoil', 'oversized', 'promo', 'reprint', 'variation', 'set_type', 'set_uri', 'set_search_uri',\n",
        "    'scryfall_set_uri', 'rulings_uri', 'prints_search_uri', 'collector_number', 'digital', 'rarity', 'flavor_text', 'set',\n",
        "    'card_back_id', 'artist_ids', 'illustration_id', 'border_color', 'frame', 'full_art', 'textless', 'booster', 'set_name',\n",
        "    'story_spotlight', 'edhrec_rank', 'prices', 'related_uris', 'purchase_uris', 'power', 'toughness', 'border_crop',\n",
        "    'produced_mana', 'all_parts', 'watermark', 'promo_types', 'small', 'normal', 'large', 'png'], axis=1)\n",
        "#Use regex to manipulate typlines so they contain no subtypes or supertypes.\n",
        "df = df.replace(regex=r'^Artifact(.*)', value='Artifact')\n",
        "df = df.replace(regex=r'^Enchantment(.*)', value='Enchantment')\n",
        "#Combine instant and sorcery into one type.\n",
        "df = df.replace(regex=r'^Sorcery(.*)', value='Instant or Sorcery')\n",
        "df = df.replace(regex=r'^Instant(.*)', value='Instant or Sorcery')\n",
        "#Change all Basic Lands into just Land.\n",
        "df = df.replace(regex=r'^Basic(.*)', value='Land')\n",
        "# Try to get even number of each card type\n",
        "df = df.groupby('type_line').head(no_cards_per_type)\n",
        "#Turn colors into a concetenated string (e.g., WUBRG) instead of a list (e.g., [W,U,B,R,G]).\n",
        "df['colors'] = df['colors'].apply(lambda x: 'C' if not x else ''.join(x))\n",
        "#print some info about data\n",
        "df.info()"
      ],
      "id": "388785ef-cc68-4c1c-9014-d02b47e9f328",
      "execution_count": 8,
      "outputs": [
        {
          "output_type": "stream",
          "text": [
            "<class 'pandas.core.frame.DataFrame'>\n",
            "Int64Index: 100 entries, 0 to 135\n",
            "Data columns (total 9 columns):\n",
            " #   Column          Non-Null Count  Dtype  \n",
            "---  ------          --------------  -----  \n",
            " 0   name            100 non-null    object \n",
            " 1   mana_cost       100 non-null    object \n",
            " 2   cmc             100 non-null    float64\n",
            " 3   type_line       100 non-null    object \n",
            " 4   oracle_text     100 non-null    object \n",
            " 5   colors          100 non-null    object \n",
            " 6   color_identity  100 non-null    object \n",
            " 7   artist          100 non-null    object \n",
            " 8   art_crop        100 non-null    object \n",
            "dtypes: float64(1), object(8)\n",
            "memory usage: 7.8+ KB\n"
          ],
          "name": "stdout"
        }
      ]
    },
    {
      "cell_type": "markdown",
      "metadata": {
        "id": "KpDhrX_zozfw"
      },
      "source": [
        "Fetch image artwork"
      ],
      "id": "KpDhrX_zozfw"
    },
    {
      "cell_type": "code",
      "metadata": {
        "id": "atggOrU1orQd"
      },
      "source": [
        "#Take the image urls.\n",
        "image_urls = df['art_crop'].values.tolist()\n",
        "#Take the raw image data.\n",
        "images = np.array([io.imread(url) for url in image_urls])"
      ],
      "id": "atggOrU1orQd",
      "execution_count": 9,
      "outputs": []
    },
    {
      "cell_type": "markdown",
      "metadata": {
        "id": "1075d7f7-f1de-4f96-901b-aa29a9d8b9a4"
      },
      "source": [
        "Prepare to make predictions."
      ],
      "id": "1075d7f7-f1de-4f96-901b-aa29a9d8b9a4"
    },
    {
      "cell_type": "code",
      "metadata": {
        "id": "579c1040-a46f-4534-b79e-db998c449f73"
      },
      "source": [
        "#Get the dimensions for reshaping.\n",
        "nsamples, nx, ny, nz = images.data.shape\n",
        "#Set X to the reshaped images.\n",
        "X = images.reshape((nsamples,nx*ny*nz))\n",
        "#Isomap.\n",
        "iso = Isomap(n_components=4)\n",
        "#Fit X.\n",
        "iso.fit(X)\n",
        "#Transform X.\n",
        "data_projected = iso.transform(X)\n",
        "#Set y to the type lines.\n",
        "y = df['type_line']\n",
        "#Set Xtrain, Xtest, ytrain, and ytest to randomly distributed cards.\n",
        "Xtrain, Xtest, ytrain, ytest = train_test_split(X, y, test_size=20, train_size=80)"
      ],
      "id": "579c1040-a46f-4534-b79e-db998c449f73",
      "execution_count": 23,
      "outputs": []
    },
    {
      "cell_type": "markdown",
      "metadata": {
        "id": "54309135-acae-45df-9e98-929de4a89e3f"
      },
      "source": [
        "Make predictions and print the accuracy."
      ],
      "id": "54309135-acae-45df-9e98-929de4a89e3f"
    },
    {
      "cell_type": "code",
      "metadata": {
        "id": "1957734d-07c0-4a39-a5b0-0aa21d97ee29",
        "colab": {
          "base_uri": "https://localhost:8080/"
        },
        "outputId": "ccaba946-cfe4-4d4a-9128-01fb18478607"
      },
      "source": [
        "from sklearn.svm import SVC # \"Support vector classifier\"\n",
        "model = SVC(kernel='linear', C=1E10)\n",
        "model.fit(Xtrain, ytrain)\n",
        "#Test model performance.\n",
        "y_model = model.predict(Xtest)\n",
        "#Print the accuracy.\n",
        "print(accuracy_score(ytest, y_model))"
      ],
      "id": "1957734d-07c0-4a39-a5b0-0aa21d97ee29",
      "execution_count": 24,
      "outputs": [
        {
          "output_type": "stream",
          "text": [
            "0.3\n"
          ],
          "name": "stdout"
        }
      ]
    },
    {
      "cell_type": "markdown",
      "metadata": {
        "id": "14ebaf01-a385-46e2-a8b7-94ef97558d94"
      },
      "source": [
        "Which artists?"
      ],
      "id": "14ebaf01-a385-46e2-a8b7-94ef97558d94"
    },
    {
      "cell_type": "code",
      "metadata": {
        "id": "e75331de-6d87-4d38-bef2-2cd512e5096e",
        "colab": {
          "base_uri": "https://localhost:8080/",
          "height": 348
        },
        "outputId": "f23b2df9-2260-4f83-8ee4-88c3d7b9c8ec"
      },
      "source": [
        "df['artist'].value_counts()[:10].plot.bar()"
      ],
      "id": "e75331de-6d87-4d38-bef2-2cd512e5096e",
      "execution_count": 20,
      "outputs": [
        {
          "output_type": "execute_result",
          "data": {
            "text/plain": [
              "<matplotlib.axes._subplots.AxesSubplot at 0x7f8fe67e2390>"
            ]
          },
          "metadata": {
            "tags": []
          },
          "execution_count": 20
        },
        {
          "output_type": "display_data",
          "data": {
            "image/png": "[encoded data removed]",
            "text/plain": [
              "<Figure size 432x288 with 1 Axes>"
            ]
          },
          "metadata": {
            "tags": [],
            "needs_background": "light"
          }
        }
      ]
    },
    {
      "cell_type": "markdown",
      "metadata": {
        "id": "4908693c-7ee6-4245-84e7-b213d7d2f420"
      },
      "source": [
        "Which colors?"
      ],
      "id": "4908693c-7ee6-4245-84e7-b213d7d2f420"
    },
    {
      "cell_type": "code",
      "metadata": {
        "id": "51b7d168-905f-4f66-9dae-ea5fae83376d",
        "colab": {
          "base_uri": "https://localhost:8080/",
          "height": 290
        },
        "outputId": "5a61a418-ee89-441a-925d-460bcbf8a065"
      },
      "source": [
        "df['colors'].value_counts().plot.bar()"
      ],
      "id": "51b7d168-905f-4f66-9dae-ea5fae83376d",
      "execution_count": 21,
      "outputs": [
        {
          "output_type": "execute_result",
          "data": {
            "text/plain": [
              "<matplotlib.axes._subplots.AxesSubplot at 0x7f8fe63736d0>"
            ]
          },
          "metadata": {
            "tags": []
          },
          "execution_count": 21
        },
        {
          "output_type": "display_data",
          "data": {
            "image/png": "[encoded data removed]",
            "text/plain": [
              "<Figure size 432x288 with 1 Axes>"
            ]
          },
          "metadata": {
            "tags": [],
            "needs_background": "light"
          }
        }
      ]
    },
    {
      "cell_type": "markdown",
      "metadata": {
        "id": "9890fcb0-8b0b-4764-97fd-63bcbc295ad8"
      },
      "source": [
        "Plot out a heatmap of a few columns. I don't know if this actually means anything."
      ],
      "id": "9890fcb0-8b0b-4764-97fd-63bcbc295ad8"
    },
    {
      "cell_type": "code",
      "metadata": {
        "id": "30e68d65-34a4-4ac4-a42b-2679db00ae46",
        "colab": {
          "base_uri": "https://localhost:8080/",
          "height": 310
        },
        "outputId": "53dd960f-331a-4ef6-ae6c-cf0a4a87485e"
      },
      "source": [
        "sns.heatmap(df.drop(['object', 'color_identity', 'art_crop'], axis=1).apply(lambda x: x.factorize()[0]).corr())"
      ],
      "id": "30e68d65-34a4-4ac4-a42b-2679db00ae46",
      "execution_count": 22,
      "outputs": [
        {
          "output_type": "error",
          "ename": "KeyError",
          "evalue": "ignored",
          "traceback": [
            "\u001b[0;31m---------------------------------------------------------------------------\u001b[0m",
            "\u001b[0;31mKeyError\u001b[0m                                  Traceback (most recent call last)",
            "\u001b[0;32m<ipython-input-22-bdfd1b316d2e>\u001b[0m in \u001b[0;36m<module>\u001b[0;34m()\u001b[0m\n\u001b[0;32m----> 1\u001b[0;31m \u001b[0msns\u001b[0m\u001b[0;34m.\u001b[0m\u001b[0mheatmap\u001b[0m\u001b[0;34m(\u001b[0m\u001b[0mdf\u001b[0m\u001b[0;34m.\u001b[0m\u001b[0mdrop\u001b[0m\u001b[0;34m(\u001b[0m\u001b[0;34m[\u001b[0m\u001b[0;34m'object'\u001b[0m\u001b[0;34m,\u001b[0m \u001b[0;34m'color_identity'\u001b[0m\u001b[0;34m,\u001b[0m \u001b[0;34m'art_crop'\u001b[0m\u001b[0;34m]\u001b[0m\u001b[0;34m,\u001b[0m \u001b[0maxis\u001b[0m\u001b[0;34m=\u001b[0m\u001b[0;36m1\u001b[0m\u001b[0;34m)\u001b[0m\u001b[0;34m.\u001b[0m\u001b[0mapply\u001b[0m\u001b[0;34m(\u001b[0m\u001b[0;32mlambda\u001b[0m \u001b[0mx\u001b[0m\u001b[0;34m:\u001b[0m \u001b[0mx\u001b[0m\u001b[0;34m.\u001b[0m\u001b[0mfactorize\u001b[0m\u001b[0;34m(\u001b[0m\u001b[0;34m)\u001b[0m\u001b[0;34m[\u001b[0m\u001b[0;36m0\u001b[0m\u001b[0;34m]\u001b[0m\u001b[0;34m)\u001b[0m\u001b[0;34m.\u001b[0m\u001b[0mcorr\u001b[0m\u001b[0;34m(\u001b[0m\u001b[0;34m)\u001b[0m\u001b[0;34m)\u001b[0m\u001b[0;34m\u001b[0m\u001b[0;34m\u001b[0m\u001b[0m\n\u001b[0m",
            "\u001b[0;32m/usr/local/lib/python3.7/dist-packages/pandas/core/frame.py\u001b[0m in \u001b[0;36mdrop\u001b[0;34m(self, labels, axis, index, columns, level, inplace, errors)\u001b[0m\n\u001b[1;32m   4172\u001b[0m             \u001b[0mlevel\u001b[0m\u001b[0;34m=\u001b[0m\u001b[0mlevel\u001b[0m\u001b[0;34m,\u001b[0m\u001b[0;34m\u001b[0m\u001b[0;34m\u001b[0m\u001b[0m\n\u001b[1;32m   4173\u001b[0m             \u001b[0minplace\u001b[0m\u001b[0;34m=\u001b[0m\u001b[0minplace\u001b[0m\u001b[0;34m,\u001b[0m\u001b[0;34m\u001b[0m\u001b[0;34m\u001b[0m\u001b[0m\n\u001b[0;32m-> 4174\u001b[0;31m             \u001b[0merrors\u001b[0m\u001b[0;34m=\u001b[0m\u001b[0merrors\u001b[0m\u001b[0;34m,\u001b[0m\u001b[0;34m\u001b[0m\u001b[0;34m\u001b[0m\u001b[0m\n\u001b[0m\u001b[1;32m   4175\u001b[0m         )\n\u001b[1;32m   4176\u001b[0m \u001b[0;34m\u001b[0m\u001b[0m\n",
            "\u001b[0;32m/usr/local/lib/python3.7/dist-packages/pandas/core/generic.py\u001b[0m in \u001b[0;36mdrop\u001b[0;34m(self, labels, axis, index, columns, level, inplace, errors)\u001b[0m\n\u001b[1;32m   3887\u001b[0m         \u001b[0;32mfor\u001b[0m \u001b[0maxis\u001b[0m\u001b[0;34m,\u001b[0m \u001b[0mlabels\u001b[0m \u001b[0;32min\u001b[0m \u001b[0maxes\u001b[0m\u001b[0;34m.\u001b[0m\u001b[0mitems\u001b[0m\u001b[0;34m(\u001b[0m\u001b[0;34m)\u001b[0m\u001b[0;34m:\u001b[0m\u001b[0;34m\u001b[0m\u001b[0;34m\u001b[0m\u001b[0m\n\u001b[1;32m   3888\u001b[0m             \u001b[0;32mif\u001b[0m \u001b[0mlabels\u001b[0m \u001b[0;32mis\u001b[0m \u001b[0;32mnot\u001b[0m \u001b[0;32mNone\u001b[0m\u001b[0;34m:\u001b[0m\u001b[0;34m\u001b[0m\u001b[0;34m\u001b[0m\u001b[0m\n\u001b[0;32m-> 3889\u001b[0;31m                 \u001b[0mobj\u001b[0m \u001b[0;34m=\u001b[0m \u001b[0mobj\u001b[0m\u001b[0;34m.\u001b[0m\u001b[0m_drop_axis\u001b[0m\u001b[0;34m(\u001b[0m\u001b[0mlabels\u001b[0m\u001b[0;34m,\u001b[0m \u001b[0maxis\u001b[0m\u001b[0;34m,\u001b[0m \u001b[0mlevel\u001b[0m\u001b[0;34m=\u001b[0m\u001b[0mlevel\u001b[0m\u001b[0;34m,\u001b[0m \u001b[0merrors\u001b[0m\u001b[0;34m=\u001b[0m\u001b[0merrors\u001b[0m\u001b[0;34m)\u001b[0m\u001b[0;34m\u001b[0m\u001b[0;34m\u001b[0m\u001b[0m\n\u001b[0m\u001b[1;32m   3890\u001b[0m \u001b[0;34m\u001b[0m\u001b[0m\n\u001b[1;32m   3891\u001b[0m         \u001b[0;32mif\u001b[0m \u001b[0minplace\u001b[0m\u001b[0;34m:\u001b[0m\u001b[0;34m\u001b[0m\u001b[0;34m\u001b[0m\u001b[0m\n",
            "\u001b[0;32m/usr/local/lib/python3.7/dist-packages/pandas/core/generic.py\u001b[0m in \u001b[0;36m_drop_axis\u001b[0;34m(self, labels, axis, level, errors)\u001b[0m\n\u001b[1;32m   3921\u001b[0m                 \u001b[0mnew_axis\u001b[0m \u001b[0;34m=\u001b[0m \u001b[0maxis\u001b[0m\u001b[0;34m.\u001b[0m\u001b[0mdrop\u001b[0m\u001b[0;34m(\u001b[0m\u001b[0mlabels\u001b[0m\u001b[0;34m,\u001b[0m \u001b[0mlevel\u001b[0m\u001b[0;34m=\u001b[0m\u001b[0mlevel\u001b[0m\u001b[0;34m,\u001b[0m \u001b[0merrors\u001b[0m\u001b[0;34m=\u001b[0m\u001b[0merrors\u001b[0m\u001b[0;34m)\u001b[0m\u001b[0;34m\u001b[0m\u001b[0;34m\u001b[0m\u001b[0m\n\u001b[1;32m   3922\u001b[0m             \u001b[0;32melse\u001b[0m\u001b[0;34m:\u001b[0m\u001b[0;34m\u001b[0m\u001b[0;34m\u001b[0m\u001b[0m\n\u001b[0;32m-> 3923\u001b[0;31m                 \u001b[0mnew_axis\u001b[0m \u001b[0;34m=\u001b[0m \u001b[0maxis\u001b[0m\u001b[0;34m.\u001b[0m\u001b[0mdrop\u001b[0m\u001b[0;34m(\u001b[0m\u001b[0mlabels\u001b[0m\u001b[0;34m,\u001b[0m \u001b[0merrors\u001b[0m\u001b[0;34m=\u001b[0m\u001b[0merrors\u001b[0m\u001b[0;34m)\u001b[0m\u001b[0;34m\u001b[0m\u001b[0;34m\u001b[0m\u001b[0m\n\u001b[0m\u001b[1;32m   3924\u001b[0m             \u001b[0mresult\u001b[0m \u001b[0;34m=\u001b[0m \u001b[0mself\u001b[0m\u001b[0;34m.\u001b[0m\u001b[0mreindex\u001b[0m\u001b[0;34m(\u001b[0m\u001b[0;34m**\u001b[0m\u001b[0;34m{\u001b[0m\u001b[0maxis_name\u001b[0m\u001b[0;34m:\u001b[0m \u001b[0mnew_axis\u001b[0m\u001b[0;34m}\u001b[0m\u001b[0;34m)\u001b[0m\u001b[0;34m\u001b[0m\u001b[0;34m\u001b[0m\u001b[0m\n\u001b[1;32m   3925\u001b[0m \u001b[0;34m\u001b[0m\u001b[0m\n",
            "\u001b[0;32m/usr/local/lib/python3.7/dist-packages/pandas/core/indexes/base.py\u001b[0m in \u001b[0;36mdrop\u001b[0;34m(self, labels, errors)\u001b[0m\n\u001b[1;32m   5285\u001b[0m         \u001b[0;32mif\u001b[0m \u001b[0mmask\u001b[0m\u001b[0;34m.\u001b[0m\u001b[0many\u001b[0m\u001b[0;34m(\u001b[0m\u001b[0;34m)\u001b[0m\u001b[0;34m:\u001b[0m\u001b[0;34m\u001b[0m\u001b[0;34m\u001b[0m\u001b[0m\n\u001b[1;32m   5286\u001b[0m             \u001b[0;32mif\u001b[0m \u001b[0merrors\u001b[0m \u001b[0;34m!=\u001b[0m \u001b[0;34m\"ignore\"\u001b[0m\u001b[0;34m:\u001b[0m\u001b[0;34m\u001b[0m\u001b[0;34m\u001b[0m\u001b[0m\n\u001b[0;32m-> 5287\u001b[0;31m                 \u001b[0;32mraise\u001b[0m \u001b[0mKeyError\u001b[0m\u001b[0;34m(\u001b[0m\u001b[0;34mf\"{labels[mask]} not found in axis\"\u001b[0m\u001b[0;34m)\u001b[0m\u001b[0;34m\u001b[0m\u001b[0;34m\u001b[0m\u001b[0m\n\u001b[0m\u001b[1;32m   5288\u001b[0m             \u001b[0mindexer\u001b[0m \u001b[0;34m=\u001b[0m \u001b[0mindexer\u001b[0m\u001b[0;34m[\u001b[0m\u001b[0;34m~\u001b[0m\u001b[0mmask\u001b[0m\u001b[0;34m]\u001b[0m\u001b[0;34m\u001b[0m\u001b[0;34m\u001b[0m\u001b[0m\n\u001b[1;32m   5289\u001b[0m         \u001b[0;32mreturn\u001b[0m \u001b[0mself\u001b[0m\u001b[0;34m.\u001b[0m\u001b[0mdelete\u001b[0m\u001b[0;34m(\u001b[0m\u001b[0mindexer\u001b[0m\u001b[0;34m)\u001b[0m\u001b[0;34m\u001b[0m\u001b[0;34m\u001b[0m\u001b[0m\n",
            "\u001b[0;31mKeyError\u001b[0m: \"['object'] not found in axis\""
          ]
        }
      ]
    },
    {
      "cell_type": "markdown",
      "metadata": {
        "id": "35fe0400-53c1-4847-8c2d-31dc4591cb01"
      },
      "source": [
        "What are the most common type line artist combinations?"
      ],
      "id": "35fe0400-53c1-4847-8c2d-31dc4591cb01"
    },
    {
      "cell_type": "code",
      "metadata": {
        "id": "ef15ff55-fa6b-4e4e-9781-a7ad9c6eef0f"
      },
      "source": [
        "df.groupby('artist')['type_line'].value_counts().sort_values(ascending=False)[:10].plot.bar()"
      ],
      "id": "ef15ff55-fa6b-4e4e-9781-a7ad9c6eef0f",
      "execution_count": null,
      "outputs": []
    },
    {
      "cell_type": "markdown",
      "metadata": {
        "id": "fe1e9989-c537-4361-982c-09d8815160f0"
      },
      "source": [
        "What are the most common artist color combinations?"
      ],
      "id": "fe1e9989-c537-4361-982c-09d8815160f0"
    },
    {
      "cell_type": "code",
      "metadata": {
        "id": "a631140f-a16e-41b0-bad4-4d7cf84c7d49"
      },
      "source": [
        "df.groupby('artist')['colors'].value_counts().sort_values(ascending=False)[:10].plot.bar()"
      ],
      "id": "a631140f-a16e-41b0-bad4-4d7cf84c7d49",
      "execution_count": null,
      "outputs": []
    },
    {
      "cell_type": "markdown",
      "metadata": {
        "id": "d71d0c23-6983-4402-ba44-cf506ece9462"
      },
      "source": [
        "What are the most common color type line combinations?"
      ],
      "id": "d71d0c23-6983-4402-ba44-cf506ece9462"
    },
    {
      "cell_type": "code",
      "metadata": {
        "id": "df4e1efa-c596-4b94-9db3-f47a76e070d3"
      },
      "source": [
        "df.groupby('colors')['type_line'].value_counts().sort_values(ascending=False)[:10].plot.bar()"
      ],
      "id": "df4e1efa-c596-4b94-9db3-f47a76e070d3",
      "execution_count": null,
      "outputs": []
    }
  ]
}