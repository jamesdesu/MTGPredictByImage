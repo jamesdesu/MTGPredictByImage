{
 "cells": [
  {
   "cell_type": "markdown",
   "id": "649ff429-8ec1-4c62-b51e-b73e506896ad",
   "metadata": {},
   "source": [
    "Reset the kernel between runs, I had some problems previously.\n",
    "Import everything necessary."
   ]
  },
  {
   "cell_type": "code",
   "execution_count": null,
   "id": "387212a5-ac50-49c1-b7f8-438c43d18d52",
   "metadata": {},
   "outputs": [],
   "source": [
    "#Import numpy.\n",
    "import numpy as np\n",
    "#Import pandas.\n",
    "import pandas as pd\n",
    "#Import scrython. Be sure to install it with pip or what have you.\n",
    "import scrython\n",
    "#Import seaborn.\n",
    "import seaborn as sns\n",
    "#Import nest_asyncio.\n",
    "import nest_asyncio\n",
    "#Import train_test_split from model sklearn.\n",
    "from sklearn.model_selection import train_test_split\n",
    "#Import io from skimage.\n",
    "from skimage import io\n",
    "#Import GaussianNB from sklearn.\n",
    "from sklearn.naive_bayes import GaussianNB\n",
    "#Import Isomap from sklearn.\n",
    "from sklearn.manifold import Isomap\n",
    "#Import accuracy score from sklearn.\n",
    "from sklearn.metrics import accuracy_score"
   ]
  },
  {
   "cell_type": "markdown",
   "id": "24bf269f-6c50-4851-b554-5447e0100139",
   "metadata": {},
   "source": [
    "Create some variables to make code more clear."
   ]
  },
  {
   "cell_type": "code",
   "execution_count": null,
   "id": "ba3ae833-c90c-4837-a985-33a534ee2940",
   "metadata": {},
   "outputs": [],
   "source": [
    "#The number of cards per type to use.\n",
    "no_cards_per_type = 20;\n",
    "#The number of card types.\n",
    "no_types = 5;"
   ]
  },
  {
   "cell_type": "markdown",
   "id": "e0083071-bdfd-4115-94f5-65aaed685758",
   "metadata": {},
   "source": [
    "Since the program uses an external API, it needs to be able to wait for a response before continuing."
   ]
  },
  {
   "cell_type": "code",
   "execution_count": null,
   "id": "a5930f1b-ec45-4b8e-aacf-b487a5885ce8",
   "metadata": {},
   "outputs": [],
   "source": [
    "#Apply nest_asyncio.\n",
    "nest_asyncio.apply()"
   ]
  },
  {
   "cell_type": "markdown",
   "id": "af2c0847-5762-46d6-8962-8aa871e47a19",
   "metadata": {},
   "source": [
    "Query the API for some cards."
   ]
  },
  {
   "cell_type": "code",
   "execution_count": null,
   "id": "26088b9e-9243-485a-aa8e-df7d4b85f9ce",
   "metadata": {},
   "outputs": [],
   "source": [
    "#Query for some cards.\n",
    "cards = scrython.cards.Search(q='((set:kld and -set:aer) or (-set:kld and set:aer)) and ((-type:\"artifact creature\" -type:\"legendary\" -type:vehicle -type:basic) or (!Plains or !Island or !Swamp or !Mountain or !Forest)) set:kld unique:prints')\n",
    "#Query for some more cards. We perform a second query in order to reduce confusion.\n",
    "more_cards = scrython.cards.Search(q='(-set:kld and set:aer) -type:\"artifact creature\" -type:legendary -type:vehicle')"
   ]
  },
  {
   "cell_type": "markdown",
   "id": "c384a3f6-8b1c-471d-9d0a-2f514f6b0887",
   "metadata": {},
   "source": [
    "Load those cards into a dataframe and clear up the dataframe."
   ]
  },
  {
   "cell_type": "code",
   "execution_count": null,
   "id": "388785ef-cc68-4c1c-9014-d02b47e9f328",
   "metadata": {},
   "outputs": [],
   "source": [
    "#Load both of those cards into a dataframe.\n",
    "df = pd.DataFrame(cards.data()).append(more_cards.data())\n",
    "#Split the image_uris into three columns.\n",
    "df = pd.concat([df.drop(['image_uris'], axis=1), df['image_uris'].apply(pd.Series)], axis=1)\n",
    "#Drop uneeded columns.\n",
    "df = df.drop(['id', 'oracle_id', 'multiverse_ids', 'mtgo_id', 'mtgo_foil_id', 'tcgplayer_id', 'cardmarket_id', 'lang', \n",
    "    'released_at', 'uri', 'scryfall_uri', 'layout', 'highres_image', 'image_status', 'keywords', 'legalities', 'games',\n",
    "    'reserved', 'foil', 'nonfoil', 'oversized', 'promo', 'reprint', 'variation', 'set_type', 'set_uri', 'set_search_uri',\n",
    "    'scryfall_set_uri', 'rulings_uri', 'prints_search_uri', 'collector_number', 'digital', 'rarity', 'flavor_text', 'set',\n",
    "    'card_back_id', 'artist_ids', 'illustration_id', 'border_color', 'frame', 'full_art', 'textless', 'booster', 'set_name',\n",
    "    'story_spotlight', 'edhrec_rank', 'prices', 'related_uris', 'purchase_uris', 'power', 'toughness', 'border_crop',\n",
    "    'produced_mana', 'all_parts', 'watermark', 'promo_types', 'small', 'normal', 'large', 'png'], axis=1).groupby('type_line').head(no_cards_per_type)\n",
    "#Use regex to manipulate typlines so they contain no subtypes or supertypes.\n",
    "df = df.replace(regex=r'^Creature(.*)', value='Creature')\n",
    "df = df.replace(regex=r'^Artifact(.*)', value='Artifact')\n",
    "df = df.replace(regex=r'^Enchantment(.*)', value='Enchantment')\n",
    "#Combine instant and sorcery into one type.\n",
    "df = df.replace(regex=r'^Sorcery(.*)', value='Instant or Sorcery')\n",
    "df = df.replace(regex=r'^Instant(.*)', value='Instant or Sorcery')\n",
    "#Change all Basic Lands into just Land.\n",
    "df = df.replace(regex=r'^Basic(.*)', value='Land')\n",
    "#Turn colors into a concetenated string (e.g., WUBRG) instead of a list (e.g., [W,U,B,R,G]).\n",
    "df['colors'] = df['colors'].apply(lambda x: 'C' if not x else ''.join(x))"
   ]
  },
  {
   "cell_type": "markdown",
   "id": "1075d7f7-f1de-4f96-901b-aa29a9d8b9a4",
   "metadata": {},
   "source": [
    "Prepare to make predictions."
   ]
  },
  {
   "cell_type": "code",
   "execution_count": null,
   "id": "579c1040-a46f-4534-b79e-db998c449f73",
   "metadata": {},
   "outputs": [],
   "source": [
    "#Take the image urls.\n",
    "image_urls = df['art_crop'].values.tolist()\n",
    "#Take the raw image data.\n",
    "images = np.array([io.imread(url) for url in image_urls])\n",
    "#Get the dimensions for reshaping.\n",
    "nsamples, nx, ny, nz = images.data.shape\n",
    "#Set X to the reshaped images.\n",
    "X = images.reshape((nsamples,nx*ny*nz))\n",
    "#Isomap.\n",
    "iso = Isomap(n_components=4)\n",
    "#Fit X.\n",
    "iso.fit(X)\n",
    "#Transform X.\n",
    "data_projected = iso.transform(X)\n",
    "#Set y to the type lines.\n",
    "y = df['type_line']\n",
    "#Set Xtrain, Xtest, ytrain, and ytest to randomly distributed cards.\n",
    "Xtrain, Xtest, ytrain, ytest = train_test_split(X, y, test_size=30, train_size=70)"
   ]
  },
  {
   "cell_type": "markdown",
   "id": "54309135-acae-45df-9e98-929de4a89e3f",
   "metadata": {},
   "source": [
    "Make predictions and print the accuracy."
   ]
  },
  {
   "cell_type": "code",
   "execution_count": null,
   "id": "1957734d-07c0-4a39-a5b0-0aa21d97ee29",
   "metadata": {},
   "outputs": [],
   "source": [
    "#Create a Gaussian NB model.\n",
    "model = GaussianNB()\n",
    "#Fit this model.\n",
    "model.fit(Xtrain, ytrain)\n",
    "#Test model performance.\n",
    "y_model = model.predict(Xtest)\n",
    "#Print the accuracy.\n",
    "print(accuracy_score(ytest, y_model))"
   ]
  },
  {
   "cell_type": "markdown",
   "id": "fc0d9923-b09e-4dfc-b51d-202463ddf80d",
   "metadata": {},
   "source": [
    "Plot some interesting data.\n",
    "Which type lines are the most common?"
   ]
  },
  {
   "cell_type": "code",
   "execution_count": null,
   "id": "61276e1a-2224-4625-a152-f97fe50a3ac2",
   "metadata": {},
   "outputs": [],
   "source": [
    "df['type_line'].value_counts().plot.bar()"
   ]
  },
  {
   "cell_type": "markdown",
   "id": "14ebaf01-a385-46e2-a8b7-94ef97558d94",
   "metadata": {},
   "source": [
    "Which artists?"
   ]
  },
  {
   "cell_type": "code",
   "execution_count": null,
   "id": "e75331de-6d87-4d38-bef2-2cd512e5096e",
   "metadata": {},
   "outputs": [],
   "source": [
    "df['artist'].value_counts()[:10].plot.bar()"
   ]
  },
  {
   "cell_type": "markdown",
   "id": "4908693c-7ee6-4245-84e7-b213d7d2f420",
   "metadata": {},
   "source": [
    "Which colors?"
   ]
  },
  {
   "cell_type": "code",
   "execution_count": null,
   "id": "51b7d168-905f-4f66-9dae-ea5fae83376d",
   "metadata": {},
   "outputs": [],
   "source": [
    "df['colors'].value_counts().plot.bar()"
   ]
  },
  {
   "cell_type": "markdown",
   "id": "9890fcb0-8b0b-4764-97fd-63bcbc295ad8",
   "metadata": {},
   "source": [
    "Plot out a heatmap of a few columns. I don't know if this actually means anything."
   ]
  },
  {
   "cell_type": "code",
   "execution_count": null,
   "id": "30e68d65-34a4-4ac4-a42b-2679db00ae46",
   "metadata": {},
   "outputs": [],
   "source": [
    "sns.heatmap(df.drop(['object', 'color_identity', 'art_crop'], axis=1).apply(lambda x: x.factorize()[0]).corr())"
   ]
  },
  {
   "cell_type": "markdown",
   "id": "35fe0400-53c1-4847-8c2d-31dc4591cb01",
   "metadata": {},
   "source": [
    "What are the most common type line artist combinations?"
   ]
  },
  {
   "cell_type": "code",
   "execution_count": null,
   "id": "ef15ff55-fa6b-4e4e-9781-a7ad9c6eef0f",
   "metadata": {},
   "outputs": [],
   "source": [
    "df.groupby('artist')['type_line'].value_counts().sort_values(ascending=False)[:10].plot.bar()"
   ]
  },
  {
   "cell_type": "markdown",
   "id": "fe1e9989-c537-4361-982c-09d8815160f0",
   "metadata": {},
   "source": [
    "What are the most common artist color combinations?"
   ]
  },
  {
   "cell_type": "code",
   "execution_count": null,
   "id": "a631140f-a16e-41b0-bad4-4d7cf84c7d49",
   "metadata": {},
   "outputs": [],
   "source": [
    "df.groupby('artist')['colors'].value_counts().sort_values(ascending=False)[:10].plot.bar()"
   ]
  },
  {
   "cell_type": "markdown",
   "id": "d71d0c23-6983-4402-ba44-cf506ece9462",
   "metadata": {},
   "source": [
    "What are the most common color type line combinations?"
   ]
  },
  {
   "cell_type": "code",
   "execution_count": null,
   "id": "df4e1efa-c596-4b94-9db3-f47a76e070d3",
   "metadata": {},
   "outputs": [],
   "source": [
    "df.groupby('colors')['type_line'].value_counts().sort_values(ascending=False)[:10].plot.bar()"
   ]
  }
 ],
 "metadata": {
  "kernelspec": {
   "display_name": "Python 3",
   "language": "python",
   "name": "python3"
  },
  "language_info": {
   "codemirror_mode": {
    "name": "ipython",
    "version": 3
   },
   "file_extension": ".py",
   "mimetype": "text/x-python",
   "name": "python",
   "nbconvert_exporter": "python",
   "pygments_lexer": "ipython3",
   "version": "3.8.8"
  }
 },
 "nbformat": 4,
 "nbformat_minor": 5
}
